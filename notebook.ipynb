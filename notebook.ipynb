{
  "metadata": {
    "language_info": {
      "codemirror_mode": {
        "name": "python",
        "version": 3
      },
      "file_extension": ".py",
      "mimetype": "text/x-python",
      "name": "python",
      "nbconvert_exporter": "python",
      "pygments_lexer": "ipython3",
      "version": "3.8"
    },
    "kernelspec": {
      "name": "python",
      "display_name": "Python (Pyodide)",
      "language": "python"
    }
  },
  "nbformat_minor": 4,
  "nbformat": 4,
  "cells": [
    {
      "cell_type": "markdown",
      "source": "# Thinking about fair APRs for profit and fun\nThis is a short introduction to finding fair APRs for zero-liquidation loans.\n\n## Introduction\nRecall that a zero-liquidation loan can be seen as a swap, where the borrower pledges collateral and receives a loan amount plus an embedded call option. For example, let's assume you pledge 1 ETH worth `$1,500` and you can borrow `$700` against it for 30 days. Now to make the swap fair you should receive a call option which is worth `$800` because this way your position value pre- and post borrow is the same, i.e., nobody is better or worse off than before. Now the question is:\n\n> How should we choose the strike price of the call option such its fair value is `$800`?\n\n## Option Pricing\nThe most simple way to price a call option is to use Black-Scholes. While for our case the Black-Scholes model is a crude over-simplification it nonetheless is a good way to start thinking about how to determine a fair APR.\n\nSo, for a European call option we can apply the following Black-Scholes formula:\n\n$C(S,t) = S \\Phi(d_1) - K e^{-r(T-t)} \\Phi(d_2)$\n\nwhere\n\n$d1 = \\frac{ln(S/K) + (r+\\sigma^2/2)(T-t)}{\\sigma \\sqrt{T-t}}$\n\n$d_2 = d_1 - \\sigma \\sqrt{T-t}$\n\nand\n\n* $S$: current price of the collateral\n* $r$: risk free rate\n* $\\sigma$: price volatility of the collateral \n* $T-t$: tenor of the option\n* $K$: strike price\n\nLet's put that into code:",
      "metadata": {}
    },
    {
      "cell_type": "code",
      "source": "import numpy as np\nfrom scipy.stats import norm\nfrom scipy import optimize\n\ndef getD1(S, K, sigma, optionTenorInYears, r):\n    return (np.log(S / K) + (r + sigma**2 / 2) * optionTenorInYears) / \\\n        (sigma * np.sqrt(optionTenorInYears))\n\ndef getCallValue(\n        spotPrice,\n        strikePrice,\n        sigma,\n        optionTenorInYears,\n        riskFreeRate):\n    if optionTenorInYears <= 0:\n        return max([0, spotPrice - strikePrice])\n    if strikePrice <= 0:\n        return spotPrice\n    d1 = getD1(spotPrice, strikePrice, sigma, optionTenorInYears, riskFreeRate)\n    d2 = d1 - sigma * np.sqrt(optionTenorInYears)\n    return spotPrice * norm.cdf(d1) - strikePrice * \\\n        np.exp(-riskFreeRate * optionTenorInYears) * norm.cdf(d2)",
      "metadata": {
        "trusted": true
      },
      "execution_count": 27,
      "outputs": []
    },
    {
      "cell_type": "markdown",
      "source": "### Example: pricing a call\nSo let's assume the ETH price is $\\$1500$ and we want to buy a European call option with strike price $K=\\$701$, a tenor of $T-t=30./365.$ years, and with ETH vol being at $\\sigma=100\\%$ and the risk free rate at $r=2\\%$. \n\nUsing the Black-Scholes model. what would be the fair price of such an option? Let's use our `getCallValue` function above:",
      "metadata": {}
    },
    {
      "cell_type": "code",
      "source": "S = 1500\nK = 702\nsigma = 1.\ntenor = 30./365.\nr = .02\ncallValue = getCallValue(S, K, sigma, tenor, r)\nprint(\"call value is:\", callValue)",
      "metadata": {
        "trusted": true
      },
      "execution_count": 33,
      "outputs": [
        {
          "name": "stdout",
          "text": "call value is: 799.5115640645636\n",
          "output_type": "stream"
        }
      ]
    },
    {
      "cell_type": "markdown",
      "source": "### Example: thinking about the fairness of the swap and implied APR\nSo we can see that the value of such a call option should be around $\\approx \\$800$. So if we were to swap 1 ETH ($=\\$1500$) to received a loan of $\\$700$ as well as this call option worth $\\$800$ then we wouldn't be better or worse off, i.e., this swap would be fair.\n\nLet's think about what that means in terms of APR. Let $L=\\$700$ denote your loan amount. Now if you end up repaying the strike price $K=\\$701$ to reclaim your collateral prior to expiry of the loan, i.e., within $\\Delta T=30/365 \\; years$ then on an annualized basis your APR would be $APR = \\Big(\\frac{K}{L}-1\\Big) \\cdot \\frac{1}{\\Delta T}$, or in code:",
      "metadata": {}
    },
    {
      "cell_type": "code",
      "source": "L = 700.\nK = 702.\ndT = 30./365\nAPR = (K/L-1)/dT\nprint(\"APR is:\", APR)",
      "metadata": {
        "trusted": true
      },
      "execution_count": 32,
      "outputs": [
        {
          "name": "stdout",
          "text": "APR is: 0.02624523809523675\n",
          "output_type": "stream"
        }
      ]
    },
    {
      "cell_type": "markdown",
      "source": "So this means that the implied fair APR would be $2.6\\%$.\n\n### Finding fair strike price = minimization problem\nIn the previous example we were lucky because our initial guess for the strike price turned out to result in a option price that indeed made the swap fair for the given loan amount. But what if we wanted to find such a strike price for any kind of loan amount?\n\nBasically, given the current spot price $S$ and loan amount $L$ we're interested in finding $K^*$ such that the following equation holds:\n\n$S = L + C(K^*)$\n\nWe can translate this into the following minimization problem:\n\n$K^* = \\arg \\min_{K} \\Big(S - L - C(K)\\Big)^2$\n\nand use `scipy` for this:",
      "metadata": {}
    },
    {
      "cell_type": "code",
      "source": "def getEquilibriumCallStrike(\n        CTokenIn,\n        fees,\n        BTokenOut,\n        spotPrice,\n        sigma,\n        optionTenorInYears,\n        riskFreeRate):\n    def minFunc(\n            strikePrice,\n            fees,\n            CTokenIn,\n            BTokenOut,\n            spotPrice,\n            sigma,\n            optionTenorInYears,\n            riskFreeRate):\n        callValue = getCallValue(\n            spotPrice,\n            strikePrice,\n            sigma,\n            optionTenorInYears,\n            riskFreeRate)\n        return (callValue * CTokenIn * (1 - fees) +\n                BTokenOut - CTokenIn * spotPrice)**2\n    args = (\n        fees,\n        CTokenIn,\n        BTokenOut,\n        spotPrice,\n        sigma,\n        optionTenorInYears,\n        riskFreeRate)\n    initialStrikeGuess = spotPrice\n    strikeBounds = (0.1, None)\n    res = optimize.minimize(\n        minFunc,\n        args=args,\n        x0=[initialStrikeGuess],\n        bounds=[strikeBounds])\n    return res['x'][0]",
      "metadata": {},
      "execution_count": null,
      "outputs": []
    },
    {
      "cell_type": "markdown",
      "source": "For example, let's assume we wanted to have a higher loan amount of $L=\\$ 1000$, then the corresponding fair strike price would be:",
      "metadata": {}
    },
    {
      "cell_type": "code",
      "source": "CTokenIn = 1\nfees = 0\nBTokenOut = 1000\nspotPrice = 1500\nsigma = 1.\noptionTenorInYears = 30./365.\nriskFreeRate = .02\nfairK = getEquilibriumCallStrike(\n    CTokenIn,\n    fees,\n    BTokenOut,\n    spotPrice,\n    sigma,\n    optionTenorInYears,\n    riskFreeRate)\nimpliedAPR = (fairK/BTokenOut-1)/optionTenorInYears\n\nprint(\"the fair strike K is:\", fairK)\nprint(\"the implied APR is:\", impliedAPR)",
      "metadata": {
        "trusted": true
      },
      "execution_count": 36,
      "outputs": [
        {
          "name": "stdout",
          "text": "the fair strike K is: 1015.5245698262931\nthe implied APR is: 0.18888226621989979\n",
          "output_type": "stream"
        }
      ]
    },
    {
      "cell_type": "markdown",
      "source": "So we can see that the fair strike $K^* = \\$ 1015.5$ as well as the implied $APR = 19 \\%$ are now higher then in the previous example. Intuitively, this also makes sense because the LTV of the loan is now higher, which means that LPs bear more risk and hence expect to receive a higher APR to be compensated for this.",
      "metadata": {}
    }
  ]
}